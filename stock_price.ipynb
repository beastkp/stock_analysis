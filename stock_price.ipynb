{
  "nbformat": 4,
  "nbformat_minor": 0,
  "metadata": {
    "colab": {
      "provenance": [],
      "authorship_tag": "ABX9TyNMRaYgwYX4yA3LlASYOGRt",
      "include_colab_link": true
    },
    "kernelspec": {
      "name": "python3",
      "display_name": "Python 3"
    },
    "language_info": {
      "name": "python"
    }
  },
  "cells": [
    {
      "cell_type": "markdown",
      "metadata": {
        "id": "view-in-github",
        "colab_type": "text"
      },
      "source": [
        "<a href=\"https://colab.research.google.com/github/beastkp/stock_analysis/blob/main/stock_price.ipynb\" target=\"_parent\"><img src=\"https://colab.research.google.com/assets/colab-badge.svg\" alt=\"Open In Colab\"/></a>"
      ]
    },
    {
      "cell_type": "code",
      "execution_count": null,
      "metadata": {
        "colab": {
          "base_uri": "https://localhost:8080/"
        },
        "id": "6QpI9Z-cDqxI",
        "outputId": "e0d3995d-ffb3-47f4-9e0e-50e5228e62d3"
      },
      "outputs": [
        {
          "output_type": "stream",
          "name": "stdout",
          "text": [
            "Looking in indexes: https://pypi.org/simple, https://us-python.pkg.dev/colab-wheels/public/simple/\n",
            "Collecting yfinance\n",
            "  Downloading yfinance-0.2.12-py2.py3-none-any.whl (59 kB)\n",
            "\u001b[2K     \u001b[90m━━━━━━━━━━━━━━━━━━━━━━━━━━━━━━━━━━━━━━━━\u001b[0m \u001b[32m59.2/59.2 KB\u001b[0m \u001b[31m1.7 MB/s\u001b[0m eta \u001b[36m0:00:00\u001b[0m\n",
            "\u001b[?25hRequirement already satisfied: pytz>=2022.5 in /usr/local/lib/python3.8/dist-packages (from yfinance) (2022.7.1)\n",
            "Collecting frozendict>=2.3.4\n",
            "  Downloading frozendict-2.3.5-cp38-cp38-manylinux_2_17_x86_64.manylinux2014_x86_64.whl (111 kB)\n",
            "\u001b[2K     \u001b[90m━━━━━━━━━━━━━━━━━━━━━━━━━━━━━━━━━━━━━━━\u001b[0m \u001b[32m111.2/111.2 KB\u001b[0m \u001b[31m5.9 MB/s\u001b[0m eta \u001b[36m0:00:00\u001b[0m\n",
            "\u001b[?25hRequirement already satisfied: lxml>=4.9.1 in /usr/local/lib/python3.8/dist-packages (from yfinance) (4.9.2)\n",
            "Requirement already satisfied: numpy>=1.16.5 in /usr/local/lib/python3.8/dist-packages (from yfinance) (1.21.6)\n",
            "Requirement already satisfied: appdirs>=1.4.4 in /usr/local/lib/python3.8/dist-packages (from yfinance) (1.4.4)\n",
            "Collecting beautifulsoup4>=4.11.1\n",
            "  Downloading beautifulsoup4-4.11.2-py3-none-any.whl (129 kB)\n",
            "\u001b[2K     \u001b[90m━━━━━━━━━━━━━━━━━━━━━━━━━━━━━━━━━━━━━━━\u001b[0m \u001b[32m129.4/129.4 KB\u001b[0m \u001b[31m6.7 MB/s\u001b[0m eta \u001b[36m0:00:00\u001b[0m\n",
            "\u001b[?25hRequirement already satisfied: multitasking>=0.0.7 in /usr/local/lib/python3.8/dist-packages (from yfinance) (0.0.11)\n",
            "Collecting requests>=2.26\n",
            "  Downloading requests-2.28.2-py3-none-any.whl (62 kB)\n",
            "\u001b[2K     \u001b[90m━━━━━━━━━━━━━━━━━━━━━━━━━━━━━━━━━━━━━━━━\u001b[0m \u001b[32m62.8/62.8 KB\u001b[0m \u001b[31m3.4 MB/s\u001b[0m eta \u001b[36m0:00:00\u001b[0m\n",
            "\u001b[?25hCollecting html5lib>=1.1\n",
            "  Downloading html5lib-1.1-py2.py3-none-any.whl (112 kB)\n",
            "\u001b[2K     \u001b[90m━━━━━━━━━━━━━━━━━━━━━━━━━━━━━━━━━━━━━━━\u001b[0m \u001b[32m112.2/112.2 KB\u001b[0m \u001b[31m5.5 MB/s\u001b[0m eta \u001b[36m0:00:00\u001b[0m\n",
            "\u001b[?25hRequirement already satisfied: pandas>=1.3.0 in /usr/local/lib/python3.8/dist-packages (from yfinance) (1.3.5)\n",
            "Collecting cryptography>=3.3.2\n",
            "  Downloading cryptography-39.0.1-cp36-abi3-manylinux_2_28_x86_64.whl (4.2 MB)\n",
            "\u001b[2K     \u001b[90m━━━━━━━━━━━━━━━━━━━━━━━━━━━━━━━━━━━━━━━━\u001b[0m \u001b[32m4.2/4.2 MB\u001b[0m \u001b[31m46.5 MB/s\u001b[0m eta \u001b[36m0:00:00\u001b[0m\n",
            "\u001b[?25hCollecting soupsieve>1.2\n",
            "  Downloading soupsieve-2.4-py3-none-any.whl (37 kB)\n",
            "Requirement already satisfied: cffi>=1.12 in /usr/local/lib/python3.8/dist-packages (from cryptography>=3.3.2->yfinance) (1.15.1)\n",
            "Requirement already satisfied: six>=1.9 in /usr/local/lib/python3.8/dist-packages (from html5lib>=1.1->yfinance) (1.15.0)\n",
            "Requirement already satisfied: webencodings in /usr/local/lib/python3.8/dist-packages (from html5lib>=1.1->yfinance) (0.5.1)\n",
            "Requirement already satisfied: python-dateutil>=2.7.3 in /usr/local/lib/python3.8/dist-packages (from pandas>=1.3.0->yfinance) (2.8.2)\n",
            "Requirement already satisfied: idna<4,>=2.5 in /usr/local/lib/python3.8/dist-packages (from requests>=2.26->yfinance) (2.10)\n",
            "Requirement already satisfied: charset-normalizer<4,>=2 in /usr/local/lib/python3.8/dist-packages (from requests>=2.26->yfinance) (3.0.1)\n",
            "Requirement already satisfied: certifi>=2017.4.17 in /usr/local/lib/python3.8/dist-packages (from requests>=2.26->yfinance) (2022.12.7)\n",
            "Requirement already satisfied: urllib3<1.27,>=1.21.1 in /usr/local/lib/python3.8/dist-packages (from requests>=2.26->yfinance) (1.24.3)\n",
            "Requirement already satisfied: pycparser in /usr/local/lib/python3.8/dist-packages (from cffi>=1.12->cryptography>=3.3.2->yfinance) (2.21)\n",
            "Installing collected packages: soupsieve, requests, html5lib, frozendict, cryptography, beautifulsoup4, yfinance\n",
            "  Attempting uninstall: requests\n",
            "    Found existing installation: requests 2.25.1\n",
            "    Uninstalling requests-2.25.1:\n",
            "      Successfully uninstalled requests-2.25.1\n",
            "  Attempting uninstall: html5lib\n",
            "    Found existing installation: html5lib 1.0.1\n",
            "    Uninstalling html5lib-1.0.1:\n",
            "      Successfully uninstalled html5lib-1.0.1\n",
            "  Attempting uninstall: beautifulsoup4\n",
            "    Found existing installation: beautifulsoup4 4.6.3\n",
            "    Uninstalling beautifulsoup4-4.6.3:\n",
            "      Successfully uninstalled beautifulsoup4-4.6.3\n",
            "Successfully installed beautifulsoup4-4.11.2 cryptography-39.0.1 frozendict-2.3.5 html5lib-1.1 requests-2.28.2 soupsieve-2.4 yfinance-0.2.12\n"
          ]
        }
      ],
      "source": [
        "!pip install yfinance"
      ]
    },
    {
      "cell_type": "code",
      "source": [
        "import numpy as np\n",
        "import pandas as pd\n",
        "from matplotlib import pyplot as plt\n",
        "import seaborn as sns\n",
        "import yfinance as yf\n",
        "%matplotlib inline"
      ],
      "metadata": {
        "id": "IOpu9-keDwSZ"
      },
      "execution_count": null,
      "outputs": []
    },
    {
      "cell_type": "code",
      "source": [
        "stocks= input(\"Enter the code of the stocks: \")\n",
        "data = yf.download(stocks,\"2008-01-01\",\"2021-01-18\")\n",
        "data.head()"
      ],
      "metadata": {
        "id": "iMltXRlOEIo4",
        "colab": {
          "base_uri": "https://localhost:8080/",
          "height": 272
        },
        "outputId": "50ba65aa-694a-4e0a-ad74-a3e5a03b3f61"
      },
      "execution_count": null,
      "outputs": [
        {
          "output_type": "stream",
          "name": "stdout",
          "text": [
            "Enter the code of the stocks: NG=F\n",
            "[*********************100%***********************]  1 of 1 completed\n"
          ]
        },
        {
          "output_type": "execute_result",
          "data": {
            "text/plain": [
              "             Open   High    Low  Close  Adj Close  Volume\n",
              "Date                                                     \n",
              "2008-01-02  7.572  7.876  7.564  7.850      7.850   68553\n",
              "2008-01-03  7.873  7.980  7.610  7.674      7.674   72742\n",
              "2008-01-04  7.652  7.859  7.500  7.841      7.841   61496\n",
              "2008-01-07  7.803  7.940  7.701  7.879      7.879   56675\n",
              "2008-01-08  7.909  7.997  7.880  7.967      7.967   53775"
            ],
            "text/html": [
              "\n",
              "  <div id=\"df-ca8678d3-3f27-4d47-beb2-3a18d770e566\">\n",
              "    <div class=\"colab-df-container\">\n",
              "      <div>\n",
              "<style scoped>\n",
              "    .dataframe tbody tr th:only-of-type {\n",
              "        vertical-align: middle;\n",
              "    }\n",
              "\n",
              "    .dataframe tbody tr th {\n",
              "        vertical-align: top;\n",
              "    }\n",
              "\n",
              "    .dataframe thead th {\n",
              "        text-align: right;\n",
              "    }\n",
              "</style>\n",
              "<table border=\"1\" class=\"dataframe\">\n",
              "  <thead>\n",
              "    <tr style=\"text-align: right;\">\n",
              "      <th></th>\n",
              "      <th>Open</th>\n",
              "      <th>High</th>\n",
              "      <th>Low</th>\n",
              "      <th>Close</th>\n",
              "      <th>Adj Close</th>\n",
              "      <th>Volume</th>\n",
              "    </tr>\n",
              "    <tr>\n",
              "      <th>Date</th>\n",
              "      <th></th>\n",
              "      <th></th>\n",
              "      <th></th>\n",
              "      <th></th>\n",
              "      <th></th>\n",
              "      <th></th>\n",
              "    </tr>\n",
              "  </thead>\n",
              "  <tbody>\n",
              "    <tr>\n",
              "      <th>2008-01-02</th>\n",
              "      <td>7.572</td>\n",
              "      <td>7.876</td>\n",
              "      <td>7.564</td>\n",
              "      <td>7.850</td>\n",
              "      <td>7.850</td>\n",
              "      <td>68553</td>\n",
              "    </tr>\n",
              "    <tr>\n",
              "      <th>2008-01-03</th>\n",
              "      <td>7.873</td>\n",
              "      <td>7.980</td>\n",
              "      <td>7.610</td>\n",
              "      <td>7.674</td>\n",
              "      <td>7.674</td>\n",
              "      <td>72742</td>\n",
              "    </tr>\n",
              "    <tr>\n",
              "      <th>2008-01-04</th>\n",
              "      <td>7.652</td>\n",
              "      <td>7.859</td>\n",
              "      <td>7.500</td>\n",
              "      <td>7.841</td>\n",
              "      <td>7.841</td>\n",
              "      <td>61496</td>\n",
              "    </tr>\n",
              "    <tr>\n",
              "      <th>2008-01-07</th>\n",
              "      <td>7.803</td>\n",
              "      <td>7.940</td>\n",
              "      <td>7.701</td>\n",
              "      <td>7.879</td>\n",
              "      <td>7.879</td>\n",
              "      <td>56675</td>\n",
              "    </tr>\n",
              "    <tr>\n",
              "      <th>2008-01-08</th>\n",
              "      <td>7.909</td>\n",
              "      <td>7.997</td>\n",
              "      <td>7.880</td>\n",
              "      <td>7.967</td>\n",
              "      <td>7.967</td>\n",
              "      <td>53775</td>\n",
              "    </tr>\n",
              "  </tbody>\n",
              "</table>\n",
              "</div>\n",
              "      <button class=\"colab-df-convert\" onclick=\"convertToInteractive('df-ca8678d3-3f27-4d47-beb2-3a18d770e566')\"\n",
              "              title=\"Convert this dataframe to an interactive table.\"\n",
              "              style=\"display:none;\">\n",
              "        \n",
              "  <svg xmlns=\"http://www.w3.org/2000/svg\" height=\"24px\"viewBox=\"0 0 24 24\"\n",
              "       width=\"24px\">\n",
              "    <path d=\"M0 0h24v24H0V0z\" fill=\"none\"/>\n",
              "    <path d=\"M18.56 5.44l.94 2.06.94-2.06 2.06-.94-2.06-.94-.94-2.06-.94 2.06-2.06.94zm-11 1L8.5 8.5l.94-2.06 2.06-.94-2.06-.94L8.5 2.5l-.94 2.06-2.06.94zm10 10l.94 2.06.94-2.06 2.06-.94-2.06-.94-.94-2.06-.94 2.06-2.06.94z\"/><path d=\"M17.41 7.96l-1.37-1.37c-.4-.4-.92-.59-1.43-.59-.52 0-1.04.2-1.43.59L10.3 9.45l-7.72 7.72c-.78.78-.78 2.05 0 2.83L4 21.41c.39.39.9.59 1.41.59.51 0 1.02-.2 1.41-.59l7.78-7.78 2.81-2.81c.8-.78.8-2.07 0-2.86zM5.41 20L4 18.59l7.72-7.72 1.47 1.35L5.41 20z\"/>\n",
              "  </svg>\n",
              "      </button>\n",
              "      \n",
              "  <style>\n",
              "    .colab-df-container {\n",
              "      display:flex;\n",
              "      flex-wrap:wrap;\n",
              "      gap: 12px;\n",
              "    }\n",
              "\n",
              "    .colab-df-convert {\n",
              "      background-color: #E8F0FE;\n",
              "      border: none;\n",
              "      border-radius: 50%;\n",
              "      cursor: pointer;\n",
              "      display: none;\n",
              "      fill: #1967D2;\n",
              "      height: 32px;\n",
              "      padding: 0 0 0 0;\n",
              "      width: 32px;\n",
              "    }\n",
              "\n",
              "    .colab-df-convert:hover {\n",
              "      background-color: #E2EBFA;\n",
              "      box-shadow: 0px 1px 2px rgba(60, 64, 67, 0.3), 0px 1px 3px 1px rgba(60, 64, 67, 0.15);\n",
              "      fill: #174EA6;\n",
              "    }\n",
              "\n",
              "    [theme=dark] .colab-df-convert {\n",
              "      background-color: #3B4455;\n",
              "      fill: #D2E3FC;\n",
              "    }\n",
              "\n",
              "    [theme=dark] .colab-df-convert:hover {\n",
              "      background-color: #434B5C;\n",
              "      box-shadow: 0px 1px 3px 1px rgba(0, 0, 0, 0.15);\n",
              "      filter: drop-shadow(0px 1px 2px rgba(0, 0, 0, 0.3));\n",
              "      fill: #FFFFFF;\n",
              "    }\n",
              "  </style>\n",
              "\n",
              "      <script>\n",
              "        const buttonEl =\n",
              "          document.querySelector('#df-ca8678d3-3f27-4d47-beb2-3a18d770e566 button.colab-df-convert');\n",
              "        buttonEl.style.display =\n",
              "          google.colab.kernel.accessAllowed ? 'block' : 'none';\n",
              "\n",
              "        async function convertToInteractive(key) {\n",
              "          const element = document.querySelector('#df-ca8678d3-3f27-4d47-beb2-3a18d770e566');\n",
              "          const dataTable =\n",
              "            await google.colab.kernel.invokeFunction('convertToInteractive',\n",
              "                                                     [key], {});\n",
              "          if (!dataTable) return;\n",
              "\n",
              "          const docLinkHtml = 'Like what you see? Visit the ' +\n",
              "            '<a target=\"_blank\" href=https://colab.research.google.com/notebooks/data_table.ipynb>data table notebook</a>'\n",
              "            + ' to learn more about interactive tables.';\n",
              "          element.innerHTML = '';\n",
              "          dataTable['output_type'] = 'display_data';\n",
              "          await google.colab.output.renderOutput(dataTable, element);\n",
              "          const docLink = document.createElement('div');\n",
              "          docLink.innerHTML = docLinkHtml;\n",
              "          element.appendChild(docLink);\n",
              "        }\n",
              "      </script>\n",
              "    </div>\n",
              "  </div>\n",
              "  "
            ]
          },
          "metadata": {},
          "execution_count": 3
        }
      ]
    },
    {
      "cell_type": "code",
      "source": [
        "data.shape"
      ],
      "metadata": {
        "colab": {
          "base_uri": "https://localhost:8080/"
        },
        "id": "ddK5aDh3Q9mB",
        "outputId": "0611caa6-2208-45e0-996b-df0c18932b26"
      },
      "execution_count": null,
      "outputs": [
        {
          "output_type": "execute_result",
          "data": {
            "text/plain": [
              "(3282, 6)"
            ]
          },
          "metadata": {},
          "execution_count": 4
        }
      ]
    },
    {
      "cell_type": "code",
      "source": [
        "data.info()"
      ],
      "metadata": {
        "colab": {
          "base_uri": "https://localhost:8080/"
        },
        "id": "MREVhCYfUA-9",
        "outputId": "4a40a7a2-3fc9-48ae-87d8-4cc43b092703"
      },
      "execution_count": null,
      "outputs": [
        {
          "output_type": "stream",
          "name": "stdout",
          "text": [
            "<class 'pandas.core.frame.DataFrame'>\n",
            "DatetimeIndex: 3282 entries, 2008-01-02 to 2021-01-15\n",
            "Data columns (total 6 columns):\n",
            " #   Column     Non-Null Count  Dtype  \n",
            "---  ------     --------------  -----  \n",
            " 0   Open       3282 non-null   float64\n",
            " 1   High       3282 non-null   float64\n",
            " 2   Low        3282 non-null   float64\n",
            " 3   Close      3282 non-null   float64\n",
            " 4   Adj Close  3282 non-null   float64\n",
            " 5   Volume     3282 non-null   int64  \n",
            "dtypes: float64(5), int64(1)\n",
            "memory usage: 179.5 KB\n"
          ]
        }
      ]
    },
    {
      "cell_type": "code",
      "source": [
        "data.describe()"
      ],
      "metadata": {
        "colab": {
          "base_uri": "https://localhost:8080/",
          "height": 300
        },
        "id": "n2aC8C-0UN2B",
        "outputId": "28205a7e-d420-4867-e046-586bd0cca666"
      },
      "execution_count": null,
      "outputs": [
        {
          "output_type": "execute_result",
          "data": {
            "text/plain": [
              "              Open         High          Low        Close    Adj Close  \\\n",
              "count  3282.000000  3282.000000  3282.000000  3282.000000  3282.000000   \n",
              "mean      3.713705     3.787288     3.635038     3.707074     3.707074   \n",
              "std       1.830425     1.865744     1.789584     1.825297     1.825297   \n",
              "min       1.441000     1.567000     1.432000     1.482000     1.482000   \n",
              "25%       2.691250     2.736500     2.644000     2.693000     2.693000   \n",
              "50%       3.253000     3.312000     3.183500     3.240500     3.240500   \n",
              "75%       4.157750     4.244750     4.066750     4.152000     4.152000   \n",
              "max      13.580000    13.694000    13.306000    13.577000    13.577000   \n",
              "\n",
              "              Volume  \n",
              "count    3282.000000  \n",
              "mean   131397.603595  \n",
              "std     54393.040171  \n",
              "min         0.000000  \n",
              "25%     91744.250000  \n",
              "50%    126669.500000  \n",
              "75%    161490.500000  \n",
              "max    459196.000000  "
            ],
            "text/html": [
              "\n",
              "  <div id=\"df-160d4079-0ccf-4395-9b7a-48821efa675a\">\n",
              "    <div class=\"colab-df-container\">\n",
              "      <div>\n",
              "<style scoped>\n",
              "    .dataframe tbody tr th:only-of-type {\n",
              "        vertical-align: middle;\n",
              "    }\n",
              "\n",
              "    .dataframe tbody tr th {\n",
              "        vertical-align: top;\n",
              "    }\n",
              "\n",
              "    .dataframe thead th {\n",
              "        text-align: right;\n",
              "    }\n",
              "</style>\n",
              "<table border=\"1\" class=\"dataframe\">\n",
              "  <thead>\n",
              "    <tr style=\"text-align: right;\">\n",
              "      <th></th>\n",
              "      <th>Open</th>\n",
              "      <th>High</th>\n",
              "      <th>Low</th>\n",
              "      <th>Close</th>\n",
              "      <th>Adj Close</th>\n",
              "      <th>Volume</th>\n",
              "    </tr>\n",
              "  </thead>\n",
              "  <tbody>\n",
              "    <tr>\n",
              "      <th>count</th>\n",
              "      <td>3282.000000</td>\n",
              "      <td>3282.000000</td>\n",
              "      <td>3282.000000</td>\n",
              "      <td>3282.000000</td>\n",
              "      <td>3282.000000</td>\n",
              "      <td>3282.000000</td>\n",
              "    </tr>\n",
              "    <tr>\n",
              "      <th>mean</th>\n",
              "      <td>3.713705</td>\n",
              "      <td>3.787288</td>\n",
              "      <td>3.635038</td>\n",
              "      <td>3.707074</td>\n",
              "      <td>3.707074</td>\n",
              "      <td>131397.603595</td>\n",
              "    </tr>\n",
              "    <tr>\n",
              "      <th>std</th>\n",
              "      <td>1.830425</td>\n",
              "      <td>1.865744</td>\n",
              "      <td>1.789584</td>\n",
              "      <td>1.825297</td>\n",
              "      <td>1.825297</td>\n",
              "      <td>54393.040171</td>\n",
              "    </tr>\n",
              "    <tr>\n",
              "      <th>min</th>\n",
              "      <td>1.441000</td>\n",
              "      <td>1.567000</td>\n",
              "      <td>1.432000</td>\n",
              "      <td>1.482000</td>\n",
              "      <td>1.482000</td>\n",
              "      <td>0.000000</td>\n",
              "    </tr>\n",
              "    <tr>\n",
              "      <th>25%</th>\n",
              "      <td>2.691250</td>\n",
              "      <td>2.736500</td>\n",
              "      <td>2.644000</td>\n",
              "      <td>2.693000</td>\n",
              "      <td>2.693000</td>\n",
              "      <td>91744.250000</td>\n",
              "    </tr>\n",
              "    <tr>\n",
              "      <th>50%</th>\n",
              "      <td>3.253000</td>\n",
              "      <td>3.312000</td>\n",
              "      <td>3.183500</td>\n",
              "      <td>3.240500</td>\n",
              "      <td>3.240500</td>\n",
              "      <td>126669.500000</td>\n",
              "    </tr>\n",
              "    <tr>\n",
              "      <th>75%</th>\n",
              "      <td>4.157750</td>\n",
              "      <td>4.244750</td>\n",
              "      <td>4.066750</td>\n",
              "      <td>4.152000</td>\n",
              "      <td>4.152000</td>\n",
              "      <td>161490.500000</td>\n",
              "    </tr>\n",
              "    <tr>\n",
              "      <th>max</th>\n",
              "      <td>13.580000</td>\n",
              "      <td>13.694000</td>\n",
              "      <td>13.306000</td>\n",
              "      <td>13.577000</td>\n",
              "      <td>13.577000</td>\n",
              "      <td>459196.000000</td>\n",
              "    </tr>\n",
              "  </tbody>\n",
              "</table>\n",
              "</div>\n",
              "      <button class=\"colab-df-convert\" onclick=\"convertToInteractive('df-160d4079-0ccf-4395-9b7a-48821efa675a')\"\n",
              "              title=\"Convert this dataframe to an interactive table.\"\n",
              "              style=\"display:none;\">\n",
              "        \n",
              "  <svg xmlns=\"http://www.w3.org/2000/svg\" height=\"24px\"viewBox=\"0 0 24 24\"\n",
              "       width=\"24px\">\n",
              "    <path d=\"M0 0h24v24H0V0z\" fill=\"none\"/>\n",
              "    <path d=\"M18.56 5.44l.94 2.06.94-2.06 2.06-.94-2.06-.94-.94-2.06-.94 2.06-2.06.94zm-11 1L8.5 8.5l.94-2.06 2.06-.94-2.06-.94L8.5 2.5l-.94 2.06-2.06.94zm10 10l.94 2.06.94-2.06 2.06-.94-2.06-.94-.94-2.06-.94 2.06-2.06.94z\"/><path d=\"M17.41 7.96l-1.37-1.37c-.4-.4-.92-.59-1.43-.59-.52 0-1.04.2-1.43.59L10.3 9.45l-7.72 7.72c-.78.78-.78 2.05 0 2.83L4 21.41c.39.39.9.59 1.41.59.51 0 1.02-.2 1.41-.59l7.78-7.78 2.81-2.81c.8-.78.8-2.07 0-2.86zM5.41 20L4 18.59l7.72-7.72 1.47 1.35L5.41 20z\"/>\n",
              "  </svg>\n",
              "      </button>\n",
              "      \n",
              "  <style>\n",
              "    .colab-df-container {\n",
              "      display:flex;\n",
              "      flex-wrap:wrap;\n",
              "      gap: 12px;\n",
              "    }\n",
              "\n",
              "    .colab-df-convert {\n",
              "      background-color: #E8F0FE;\n",
              "      border: none;\n",
              "      border-radius: 50%;\n",
              "      cursor: pointer;\n",
              "      display: none;\n",
              "      fill: #1967D2;\n",
              "      height: 32px;\n",
              "      padding: 0 0 0 0;\n",
              "      width: 32px;\n",
              "    }\n",
              "\n",
              "    .colab-df-convert:hover {\n",
              "      background-color: #E2EBFA;\n",
              "      box-shadow: 0px 1px 2px rgba(60, 64, 67, 0.3), 0px 1px 3px 1px rgba(60, 64, 67, 0.15);\n",
              "      fill: #174EA6;\n",
              "    }\n",
              "\n",
              "    [theme=dark] .colab-df-convert {\n",
              "      background-color: #3B4455;\n",
              "      fill: #D2E3FC;\n",
              "    }\n",
              "\n",
              "    [theme=dark] .colab-df-convert:hover {\n",
              "      background-color: #434B5C;\n",
              "      box-shadow: 0px 1px 3px 1px rgba(0, 0, 0, 0.15);\n",
              "      filter: drop-shadow(0px 1px 2px rgba(0, 0, 0, 0.3));\n",
              "      fill: #FFFFFF;\n",
              "    }\n",
              "  </style>\n",
              "\n",
              "      <script>\n",
              "        const buttonEl =\n",
              "          document.querySelector('#df-160d4079-0ccf-4395-9b7a-48821efa675a button.colab-df-convert');\n",
              "        buttonEl.style.display =\n",
              "          google.colab.kernel.accessAllowed ? 'block' : 'none';\n",
              "\n",
              "        async function convertToInteractive(key) {\n",
              "          const element = document.querySelector('#df-160d4079-0ccf-4395-9b7a-48821efa675a');\n",
              "          const dataTable =\n",
              "            await google.colab.kernel.invokeFunction('convertToInteractive',\n",
              "                                                     [key], {});\n",
              "          if (!dataTable) return;\n",
              "\n",
              "          const docLinkHtml = 'Like what you see? Visit the ' +\n",
              "            '<a target=\"_blank\" href=https://colab.research.google.com/notebooks/data_table.ipynb>data table notebook</a>'\n",
              "            + ' to learn more about interactive tables.';\n",
              "          element.innerHTML = '';\n",
              "          dataTable['output_type'] = 'display_data';\n",
              "          await google.colab.output.renderOutput(dataTable, element);\n",
              "          const docLink = document.createElement('div');\n",
              "          docLink.innerHTML = docLinkHtml;\n",
              "          element.appendChild(docLink);\n",
              "        }\n",
              "      </script>\n",
              "    </div>\n",
              "  </div>\n",
              "  "
            ]
          },
          "metadata": {},
          "execution_count": 6
        }
      ]
    },
    {
      "cell_type": "code",
      "source": [
        "data.Close.plot(figsize=(10,7),color='r')\n",
        "plt.ylabel(\"{} Prices\".format(stocks))\n",
        "plt.title(\"{} Prices Series\".format(stocks))\n",
        "plt.show()"
      ],
      "metadata": {
        "colab": {
          "base_uri": "https://localhost:8080/",
          "height": 432
        },
        "id": "ewrb0YtRUchq",
        "outputId": "f4087d78-9559-49a6-c77d-d0e0cf91303f"
      },
      "execution_count": null,
      "outputs": [
        {
          "output_type": "display_data",
          "data": {
            "text/plain": [
              "<Figure size 720x504 with 1 Axes>"
            ],
            "image/png": "[encoded data removed]"
          },
          "metadata": {
            "needs_background": "light"
          }
        }
      ]
    },
    {
      "cell_type": "code",
      "source": [
        "sns.distplot(data['Close'])\n",
        "#not normally distributed"
      ],
      "metadata": {
        "colab": {
          "base_uri": "https://localhost:8080/",
          "height": 351
        },
        "id": "btGQ59rNVM-m",
        "outputId": "0ffd38ba-a653-4eda-d660-a958fb03f4ca"
      },
      "execution_count": null,
      "outputs": [
        {
          "output_type": "stream",
          "name": "stderr",
          "text": [
            "/usr/local/lib/python3.8/dist-packages/seaborn/distributions.py:2619: FutureWarning: `distplot` is a deprecated function and will be removed in a future version. Please adapt your code to use either `displot` (a figure-level function with similar flexibility) or `histplot` (an axes-level function for histograms).\n",
            "  warnings.warn(msg, FutureWarning)\n"
          ]
        },
        {
          "output_type": "execute_result",
          "data": {
            "text/plain": [
              "<matplotlib.axes._subplots.AxesSubplot at 0x7f769c33d880>"
            ]
          },
          "metadata": {},
          "execution_count": 8
        },
        {
          "output_type": "display_data",
          "data": {
            "text/plain": [
              "<Figure size 432x288 with 1 Axes>"
            ],
            "image/png": "[encoded data removed]"
          },
          "metadata": {
            "needs_background": "light"
          }
        }
      ]
    },
    {
      "cell_type": "code",
      "source": [
        "sns.distplot(data['Open'])\n",
        "# not normally dissributed"
      ],
      "metadata": {
        "colab": {
          "base_uri": "https://localhost:8080/",
          "height": 351
        },
        "id": "fOP3Hr_AWb4F",
        "outputId": "76f1c7e8-71df-4dfd-e8fc-60b9996a8677"
      },
      "execution_count": null,
      "outputs": [
        {
          "output_type": "stream",
          "name": "stderr",
          "text": [
            "/usr/local/lib/python3.8/dist-packages/seaborn/distributions.py:2619: FutureWarning: `distplot` is a deprecated function and will be removed in a future version. Please adapt your code to use either `displot` (a figure-level function with similar flexibility) or `histplot` (an axes-level function for histograms).\n",
            "  warnings.warn(msg, FutureWarning)\n"
          ]
        },
        {
          "output_type": "execute_result",
          "data": {
            "text/plain": [
              "<matplotlib.axes._subplots.AxesSubplot at 0x7f7697baf280>"
            ]
          },
          "metadata": {},
          "execution_count": 9
        },
        {
          "output_type": "display_data",
          "data": {
            "text/plain": [
              "<Figure size 432x288 with 1 Axes>"
            ],
            "image/png": "[encoded data removed]"
          },
          "metadata": {
            "needs_background": "light"
          }
        }
      ]
    },
    {
      "cell_type": "markdown",
      "source": [
        "#Training the model"
      ],
      "metadata": {
        "id": "TDADpugkEoHr"
      }
    },
    {
      "cell_type": "code",
      "source": [
        "from sklearn.model_selection import train_test_split\n",
        "\n",
        "X = data.drop(\"Close\", axis=1)\n",
        "y= data[\"Close\"]\n",
        "\n",
        "X_train,X_test,y_train,y_test = train_test_split(X,y,test_size=0.2,random_state=0)\n",
        "print(X_train.shape)\n",
        "print(X_test.shape)\n",
        "print(y_train.shape)\n",
        "print(y_test.shape)"
      ],
      "metadata": {
        "colab": {
          "base_uri": "https://localhost:8080/"
        },
        "id": "k2cIT8YfzGx1",
        "outputId": "c8617690-6312-49e5-bc39-51e982f48cdd"
      },
      "execution_count": null,
      "outputs": [
        {
          "output_type": "stream",
          "name": "stdout",
          "text": [
            "(2625, 5)\n",
            "(657, 5)\n",
            "(2625,)\n",
            "(657,)\n"
          ]
        }
      ]
    },
    {
      "cell_type": "code",
      "source": [
        "from sklearn.linear_model import LinearRegression\n",
        "\n",
        "lr = LinearRegression()\n",
        "lr.fit(X_train,y_train)\n",
        "pred1 = lr.predict(X_test)"
      ],
      "metadata": {
        "id": "iG1G2jASKiHe"
      },
      "execution_count": null,
      "outputs": []
    },
    {
      "cell_type": "code",
      "source": [
        "pred1"
      ],
      "metadata": {
        "colab": {
          "base_uri": "https://localhost:8080/"
        },
        "id": "_Tey4SWDMV9S",
        "outputId": "f0da5a28-7f3d-4fff-c964-798c059f7358"
      },
      "execution_count": null,
      "outputs": [
        {
          "output_type": "execute_result",
          "data": {
            "text/plain": [
              "array([ 2.81200004,  5.8210001 ,  2.66199994,  5.98999977,  2.08299994,\n",
              "       12.86100006,  3.98799992,  4.82200003,  1.78199995,  4.79500008,\n",
              "        2.83999991,  3.55999994,  2.73699999,  2.96099997,  4.22700024,\n",
              "        2.46300006,  4.12099981,  4.55999994,  8.96500015,  2.93899989,\n",
              "        4.35500002,  2.67499995,  2.53500009,  2.33699989,  2.85299993,\n",
              "        1.94400001,  2.75900006,  3.93799996,  3.30599999,  4.70499992,\n",
              "        3.99099994,  2.69799995, 11.59799957,  4.24399996,  4.33699989,\n",
              "        3.70700002,  3.49900007,  5.41599989,  3.65700006,  3.43600011,\n",
              "        3.98399997,  2.43000007,  2.66700006,  2.57999992,  3.14199996,\n",
              "        4.41300011,  4.2670002 ,  2.73399997,  3.90899992,  2.03900003,\n",
              "        4.08300018,  2.47199988,  2.26900005,  3.94099998,  1.92700005,\n",
              "        3.23000002,  3.72300005,  4.87300014,  4.36399984,  3.40300012,\n",
              "        2.70000005,  3.88100004,  4.6789999 ,  3.13800001,  2.47000003,\n",
              "        2.55200005,  4.35699987,  3.898     ,  2.46700001,  2.83299994,\n",
              "        4.83500004,  2.81299996,  3.76399994,  4.35099983,  8.13300037,\n",
              "        3.8900001 ,  2.15199995,  4.37699986,  4.        ,  2.08800006,\n",
              "        3.0079999 ,  1.83700001,  7.86899996,  2.74099994,  2.70900011,\n",
              "        2.5539999 ,  2.94000006,  2.58100009,  4.36999989,  2.55200005,\n",
              "        2.83899999, 12.99400043,  3.31399989,  4.40899992,  2.74000001,\n",
              "        2.95099998,  4.36299992,  3.76799989,  2.93499994,  3.76900005,\n",
              "        2.9920001 ,  3.64700007,  2.74699998,  2.94499993,  3.12800002,\n",
              "        2.727     ,  4.46299982,  1.597     ,  2.91899991,  3.98399997,\n",
              "        6.74300003,  3.74699998,  1.926     ,  3.03699994,  2.82800007,\n",
              "        4.75699997,  4.02400017,  2.85299993,  3.51900005,  3.27900004,\n",
              "        2.66000009,  5.46799994,  2.94799995,  2.60800004,  3.796     ,\n",
              "        2.16899991,  4.69999981,  4.80100012,  4.08799982,  3.92700005,\n",
              "        3.48000002,  6.53499985,  4.39900017,  5.0619998 ,  4.52299976,\n",
              "        3.1170001 ,  3.87199998,  3.4519999 ,  2.09100008,  4.0619998 ,\n",
              "        2.94199991,  2.15799999,  5.78200006,  2.79699993,  1.78799999,\n",
              "        1.71000004,  3.13000011,  3.55900002,  2.93300009,  2.89599991,\n",
              "        4.82399988,  2.9230001 ,  4.23199987,  2.5940001 ,  1.77400005,\n",
              "        3.91899991,  2.87100005,  2.9519999 ,  4.46700001,  3.50300002,\n",
              "        4.31099987,  2.23200011,  2.296     ,  2.94899988,  3.27600002,\n",
              "        4.01900005,  3.79999995,  1.954     ,  6.70499992,  1.84399998,\n",
              "        2.39899993,  3.046     ,  2.95499992,  3.23200011,  3.77800012,\n",
              "        1.71099997,  3.73099995,  2.89299989,  2.43099999,  8.77200031,\n",
              "        2.81999993,  2.74099994,  2.69099998,  4.52699995,  3.921     ,\n",
              "        3.90899992,  2.56100011,  2.71499991,  2.98699999,  8.72599983,\n",
              "        1.903     ,  2.59200001,  3.17499995,  2.96700001,  2.93400002,\n",
              "        6.83500004,  3.83599997,  4.75699997,  2.78600001,  3.94099998,\n",
              "        2.53800011,  5.69099998,  3.4289999 ,  4.23699999,  2.82399988,\n",
              "        2.625     ,  2.62700009,  5.41900015,  4.58599997,  3.87199998,\n",
              "        4.71899986,  3.78900003,  3.58599997,  3.69199991,  2.2349999 ,\n",
              "        2.64299989,  1.86899996,  2.96399999,  2.3210001 ,  5.61499977,\n",
              "        3.6960001 ,  3.15799999,  3.83999991,  3.09599996,  1.63800001,\n",
              "        2.89100003,  4.89799976,  2.8900001 ,  4.40199995,  3.23000002,\n",
              "        4.09800005,  3.12700009,  4.6420002 ,  3.14499998,  3.18899989,\n",
              "        3.96600008,  4.09000015,  1.69000006,  2.24399996,  2.5769999 ,\n",
              "        4.09399986,  4.84800005,  3.8829999 ,  2.69700003,  3.71600008,\n",
              "        2.77699995,  3.92499995,  4.42000008,  2.33599997,  4.32299995,\n",
              "        4.73899984,  2.91400003,  3.31500006,  3.71099997,  2.10100007,\n",
              "        3.28900003,  4.00299978,  6.0170002 ,  3.35400009,  3.81699991,\n",
              "        2.47600007,  2.80500007,  4.25699997,  4.35699987,  8.13599968,\n",
              "        6.82499981,  2.02900004, 13.35299969,  2.58200002,  3.81900001,\n",
              "        2.28699994,  4.00699997,  3.80100012,  2.63400006,  3.84699988,\n",
              "       11.96899986,  3.93899989,  3.83200002,  4.46899986,  2.80200005,\n",
              "        3.31999993,  2.95000005,  3.63100004,  2.97600007, 10.20499992,\n",
              "        2.75500011,  2.0250001 ,  4.07700014,  3.65700006,  3.16899991,\n",
              "        3.34899998,  2.58400011,  4.4289999 ,  2.28600001,  2.81599998,\n",
              "        4.38800001,  1.81900001,  5.48500013,  7.26399994,  2.71000004,\n",
              "        2.5       ,  2.56699991,  3.48699999,  3.15300012,  2.32299995,\n",
              "        1.85399997,  9.44299984,  2.77999997,  3.11199999,  3.48200011,\n",
              "        2.53399992,  2.71300006,  1.995     ,  3.22399998,  2.94799995,\n",
              "        3.79999995,  3.0079999 ,  6.78299999,  4.08799982,  3.7809999 ,\n",
              "        3.94499993,  3.49799991,  2.79699993,  3.40400004,  3.68899989,\n",
              "        2.33999991,  3.69000006,  3.58200002,  3.88700008,  7.67399979,\n",
              "        4.01900005,  2.15799999,  2.78600001,  5.97100019,  1.73899996,\n",
              "        4.76200008,  3.59100008,  4.16599989,  3.9849999 ,  3.04999995,\n",
              "        4.17399979,  4.22200012,  4.0079999 ,  4.43300009,  4.3920002 ,\n",
              "        2.00300002,  2.21399999,  4.82399988,  2.63199997,  1.67499995,\n",
              "        5.01100016,  4.61600018,  3.58100009,  2.77200007,  3.82299995,\n",
              "        3.07599998,  1.77900004,  2.74699998,  4.09700012,  3.83400011,\n",
              "        5.00600004,  2.30299997,  3.29699993,  3.06299996,  1.82700002,\n",
              "        8.09500027,  4.18200016,  6.88800001,  1.61399996,  3.02999997,\n",
              "        4.03100014, 10.22999954,  4.171     ,  2.93899989,  4.82700014,\n",
              "        2.7349999 ,  1.75100005,  4.45900011,  3.30999994,  2.9849999 ,\n",
              "        2.65100002,  2.93799996,  3.43499994,  2.31999993,  3.86899996,\n",
              "        4.05600023,  1.63399994,  4.64300013,  4.42500019,  4.53100014,\n",
              "        1.64100003,  2.73699999,  2.16599989,  1.79400003,  2.32800007,\n",
              "        2.91400003,  4.67000008,  2.77399993,  2.97199988,  2.50999999,\n",
              "        3.15499997,  2.98200011,  2.80999994,  3.86500001,  3.6170001 ,\n",
              "        4.37099981,  3.12700009,  3.50600004,  4.51100016,  5.16300011,\n",
              "        2.68199992,  2.95600009,  3.03299999,  7.94199991,  3.53800011,\n",
              "        2.77399993,  3.9749999 ,  4.7249999 ,  2.95900011,  3.39199996,\n",
              "        3.00699997,  2.63400006, 10.51000023,  3.45499992,  2.36400008,\n",
              "        5.62200022,  6.74100018,  4.15799999,  3.05900002,  2.23399997,\n",
              "        4.41800022,  7.96700001,  3.62299991,  2.6329999 ,  2.65700006,\n",
              "        7.24800014,  2.625     ,  3.70700002,  3.44400001,  3.15199995,\n",
              "        3.49799991,  4.58400011,  2.66400003,  7.65799999,  3.14100003,\n",
              "        1.74600005,  4.7670002 ,  3.60500002,  3.11299992,  4.32600021,\n",
              "        2.64299989,  2.6500001 ,  2.17799997,  2.7750001 ,  3.102     ,\n",
              "        4.03900003,  3.99099994,  1.90699995,  2.32399988,  1.98300004,\n",
              "        3.95499992,  2.12599993,  3.1170001 ,  2.90799999,  3.93099999,\n",
              "        2.67499995,  2.85400009,  2.62599993,  2.2019999 ,  2.88899994,\n",
              "        2.57500005,  3.4289999 ,  2.77200007,  3.08200002,  2.06299996,\n",
              "        2.50200009,  4.15999985,  2.77999997,  7.72800016,  3.8499999 ,\n",
              "        2.28200006,  4.89499998,  3.19499993,  2.40499997,  4.57700014,\n",
              "        2.91599989,  1.77999997,  3.70099998,  2.87299991,  4.3039999 ,\n",
              "        3.93300009,  4.61999989,  2.5079999 ,  2.74699998,  2.69799995,\n",
              "        2.79500008,  4.97800016,  3.81800008,  1.58700001,  2.61199999,\n",
              "        5.90999985, 10.05300045,  3.91100001,  2.61899996,  3.63400006,\n",
              "        4.27600002,  3.99300003,  7.80200005,  1.95099998,  2.38599992,\n",
              "        4.1079998 ,  7.90999985,  3.03999996,  2.86500001,  3.954     ,\n",
              "        2.30800009,  2.42700005,  3.87700009,  2.75900006,  3.46000004,\n",
              "        3.56599998,  3.54099989,  3.55500007,  3.73200011,  2.5999999 ,\n",
              "        2.89599991,  4.27699995,  2.68000007,  2.97099996,  3.08500004,\n",
              "        2.19099998,  3.3269999 ,  3.97600007,  3.12700009,  2.82800007,\n",
              "        4.66200018,  3.8269999 ,  3.53399992,  4.39099979,  2.21199989,\n",
              "        2.81399989,  5.29199982,  3.54200006,  2.78299999,  4.59000015,\n",
              "        3.43099999,  2.97399998,  4.26200008,  2.90700006,  3.6960001 ,\n",
              "        3.28500009,  4.13000011,  3.93099999,  5.17199993,  3.55599999,\n",
              "        2.45499992,  3.37299991,  2.14100003,  2.62100005,  4.71000004,\n",
              "        8.1960001 ,  4.24700022,  2.09800005,  2.046     ,  2.83500004,\n",
              "        9.90100002,  1.66600001,  8.38799953,  4.93100023,  3.41799998,\n",
              "        4.13899994,  2.06999993,  3.2420001 ,  2.43099999,  1.75199997,\n",
              "        2.93799996,  5.54199982,  2.96199989,  2.27900004,  2.773     ,\n",
              "        4.31500006,  1.98399997,  3.55500007,  3.58400011,  2.90799999,\n",
              "        4.64599991,  3.00699997,  1.70799994,  1.82700002,  4.81500006,\n",
              "        2.59800005,  3.80200005,  4.59299994,  2.26699996,  6.38600016,\n",
              "        3.829     ,  2.79399991,  3.26600003,  2.67499995,  4.15100002,\n",
              "        2.0150001 ,  5.7420001 ,  4.73000002,  4.16400003,  2.18899989,\n",
              "        3.648     ,  1.93599999,  1.778     , 10.56999969,  2.07599998,\n",
              "        3.46700001,  4.96299982,  3.79299998,  2.26699996,  1.74600005,\n",
              "        5.28999996,  5.33400011,  2.50699997,  5.75099993,  2.94000006,\n",
              "        3.88199997,  3.56599998,  2.93000007,  3.19799995,  1.99199998,\n",
              "        3.56699991,  2.29900002,  1.86099994,  2.83599997,  4.20499992,\n",
              "        1.76699996,  3.53900003,  9.02400017,  3.61899996,  2.15899992,\n",
              "        3.26099992,  2.14700007,  2.40400004,  3.10500002,  2.24799991,\n",
              "        1.83500004,  4.79400015,  8.72599983,  2.35500002,  3.38599992,\n",
              "        2.94099998,  3.3210001 ,  2.35599995,  2.69700003,  5.70900011,\n",
              "        3.90499997,  3.6099999 ,  3.93000007,  3.23000002,  3.73799992,\n",
              "        2.52399993,  4.03499985])"
            ]
          },
          "metadata": {},
          "execution_count": 12
        }
      ]
    },
    {
      "cell_type": "code",
      "source": [
        "from sklearn.metrics import mean_squared_error,r2_score\n",
        "# if r2_sqaure = 1 then model is very good\n",
        "def calculate_metrics(y_test,y_pred):\n",
        "  mse = mean_squared_error(y_test,y_pred)\n",
        "  rmse = np.sqrt(mse)\n",
        "  r2_scors = r2_score(y_test,y_pred)\n",
        "  # y_test is ground truth \n",
        "  # y_pred is model predicted value\n",
        "  \n",
        "  print(\"MSE = \",mse)\n",
        "  print(\"RMSE = \",rmse)\n",
        "  print(\"R2_Score = \",r2_scors)\n",
        "\n",
        "calculate_metrics(y_test,pred1)"
      ],
      "metadata": {
        "id": "75Xz8apHMXby",
        "colab": {
          "base_uri": "https://localhost:8080/"
        },
        "outputId": "be2f2096-918e-4971-dd8f-edc5b0ca4e49"
      },
      "execution_count": null,
      "outputs": [
        {
          "output_type": "stream",
          "name": "stdout",
          "text": [
            "MSE =  1.3548791108554753e-29\n",
            "RMSE =  3.680868254713112e-15\n",
            "R2_Score =  1.0\n"
          ]
        }
      ]
    },
    {
      "cell_type": "code",
      "source": [
        "from sklearn.linear_model import Lasso,Ridge\n",
        "\n",
        "la = Lasso().fit(X_train,y_train)\n",
        "rd = Ridge().fit(X_train,y_train)\n",
        "\n",
        "la_p = la.predict(X_test)\n",
        "rd_p = rd.predict(X_test)\n",
        "\n"
      ],
      "metadata": {
        "id": "UTgVDJyXQ3xr"
      },
      "execution_count": null,
      "outputs": []
    },
    {
      "cell_type": "code",
      "source": [
        "calculate_metrics(y_test,la_p) \n",
        "#not that great scores "
      ],
      "metadata": {
        "colab": {
          "base_uri": "https://localhost:8080/"
        },
        "id": "JoiIg4SaS5TA",
        "outputId": "bcc9ef84-a2d0-4a1a-fb7a-10e59da20679"
      },
      "execution_count": null,
      "outputs": [
        {
          "output_type": "stream",
          "name": "stdout",
          "text": [
            "MSE =  0.23692336260532862\n",
            "RMSE =  0.4867477402159445\n",
            "R2_Score =  0.9132831519010187\n"
          ]
        }
      ]
    },
    {
      "cell_type": "code",
      "source": [
        "calculate_metrics(y_test,rd_p) \n",
        "#Ridge regression saves our model from overfitting so this can to be used "
      ],
      "metadata": {
        "colab": {
          "base_uri": "https://localhost:8080/"
        },
        "id": "KmcXVIGRTAPK",
        "outputId": "b7756f36-e6e4-4e5d-f947-0e685c91553e"
      },
      "execution_count": null,
      "outputs": [
        {
          "output_type": "stream",
          "name": "stdout",
          "text": [
            "MSE =  2.8965487621932763e-05\n",
            "RMSE =  0.005381959459335676\n",
            "R2_Score =  0.9999893982773054\n"
          ]
        }
      ]
    },
    {
      "cell_type": "code",
      "source": [
        "from sklearn.svm import SVR\n",
        "from sklearn.model_selection import GridSearchCV #for fine tuning of the model\n",
        "svr = SVR()\n",
        "\n",
        "param_grid =  {'C': [0.1, 1, 10, 100, 1000],\n",
        "               'gamma': [1, 0.1, 0.01, 0.001, 0.0001],\n",
        "               'kernel' :['rbf']}\n",
        "\n",
        "grid = GridSearchCV(SVR(),param_grid,refit=True,verbose=3)\n",
        "grid.fit(X_train,y_train)"
      ],
      "metadata": {
        "colab": {
          "base_uri": "https://localhost:8080/"
        },
        "id": "rmLbvnQTTFl3",
        "outputId": "ee1ac328-9089-43e0-b101-4d7625a935f7"
      },
      "execution_count": null,
      "outputs": [
        {
          "output_type": "stream",
          "name": "stdout",
          "text": [
            "Fitting 5 folds for each of 25 candidates, totalling 125 fits\n",
            "[CV 1/5] END .......C=0.1, gamma=1, kernel=rbf;, score=-0.075 total time=   0.3s\n",
            "[CV 2/5] END .......C=0.1, gamma=1, kernel=rbf;, score=-0.070 total time=   0.3s\n",
            "[CV 3/5] END .......C=0.1, gamma=1, kernel=rbf;, score=-0.072 total time=   0.3s\n",
            "[CV 4/5] END .......C=0.1, gamma=1, kernel=rbf;, score=-0.073 total time=   0.3s\n",
            "[CV 5/5] END .......C=0.1, gamma=1, kernel=rbf;, score=-0.050 total time=   0.3s\n",
            "[CV 1/5] END .....C=0.1, gamma=0.1, kernel=rbf;, score=-0.074 total time=   0.3s\n",
            "[CV 2/5] END .....C=0.1, gamma=0.1, kernel=rbf;, score=-0.070 total time=   0.5s\n",
            "[CV 3/5] END .....C=0.1, gamma=0.1, kernel=rbf;, score=-0.072 total time=   0.5s\n",
            "[CV 4/5] END .....C=0.1, gamma=0.1, kernel=rbf;, score=-0.072 total time=   0.6s\n",
            "[CV 5/5] END .....C=0.1, gamma=0.1, kernel=rbf;, score=-0.050 total time=   0.6s\n",
            "[CV 1/5] END ....C=0.1, gamma=0.01, kernel=rbf;, score=-0.074 total time=   0.5s\n",
            "[CV 2/5] END ....C=0.1, gamma=0.01, kernel=rbf;, score=-0.070 total time=   0.5s\n",
            "[CV 3/5] END ....C=0.1, gamma=0.01, kernel=rbf;, score=-0.072 total time=   0.3s\n",
            "[CV 4/5] END ....C=0.1, gamma=0.01, kernel=rbf;, score=-0.069 total time=   0.3s\n",
            "[CV 5/5] END ....C=0.1, gamma=0.01, kernel=rbf;, score=-0.049 total time=   0.3s\n",
            "[CV 1/5] END ...C=0.1, gamma=0.001, kernel=rbf;, score=-0.065 total time=   0.3s\n",
            "[CV 2/5] END ...C=0.1, gamma=0.001, kernel=rbf;, score=-0.064 total time=   0.3s\n",
            "[CV 3/5] END ...C=0.1, gamma=0.001, kernel=rbf;, score=-0.064 total time=   0.3s\n",
            "[CV 4/5] END ...C=0.1, gamma=0.001, kernel=rbf;, score=-0.060 total time=   0.3s\n",
            "[CV 5/5] END ...C=0.1, gamma=0.001, kernel=rbf;, score=-0.047 total time=   0.3s\n",
            "[CV 1/5] END ..C=0.1, gamma=0.0001, kernel=rbf;, score=-0.052 total time=   0.3s\n",
            "[CV 2/5] END ..C=0.1, gamma=0.0001, kernel=rbf;, score=-0.049 total time=   0.3s\n",
            "[CV 3/5] END ..C=0.1, gamma=0.0001, kernel=rbf;, score=-0.042 total time=   0.3s\n",
            "[CV 4/5] END ..C=0.1, gamma=0.0001, kernel=rbf;, score=-0.042 total time=   0.3s\n",
            "[CV 5/5] END ..C=0.1, gamma=0.0001, kernel=rbf;, score=-0.034 total time=   0.3s\n",
            "[CV 1/5] END .........C=1, gamma=1, kernel=rbf;, score=-0.038 total time=   0.3s\n",
            "[CV 2/5] END .........C=1, gamma=1, kernel=rbf;, score=-0.037 total time=   0.3s\n",
            "[CV 3/5] END .........C=1, gamma=1, kernel=rbf;, score=-0.040 total time=   0.3s\n",
            "[CV 4/5] END .........C=1, gamma=1, kernel=rbf;, score=-0.041 total time=   0.3s\n",
            "[CV 5/5] END .........C=1, gamma=1, kernel=rbf;, score=-0.021 total time=   0.3s\n",
            "[CV 1/5] END .......C=1, gamma=0.1, kernel=rbf;, score=-0.036 total time=   0.3s\n",
            "[CV 2/5] END .......C=1, gamma=0.1, kernel=rbf;, score=-0.036 total time=   0.3s\n",
            "[CV 3/5] END .......C=1, gamma=0.1, kernel=rbf;, score=-0.039 total time=   0.3s\n",
            "[CV 4/5] END .......C=1, gamma=0.1, kernel=rbf;, score=-0.039 total time=   0.3s\n",
            "[CV 5/5] END .......C=1, gamma=0.1, kernel=rbf;, score=-0.021 total time=   0.3s\n",
            "[CV 1/5] END ......C=1, gamma=0.01, kernel=rbf;, score=-0.039 total time=   0.3s\n",
            "[CV 2/5] END ......C=1, gamma=0.01, kernel=rbf;, score=-0.045 total time=   0.4s\n",
            "[CV 3/5] END ......C=1, gamma=0.01, kernel=rbf;, score=-0.041 total time=   0.3s\n",
            "[CV 4/5] END ......C=1, gamma=0.01, kernel=rbf;, score=-0.022 total time=   0.3s\n",
            "[CV 5/5] END ......C=1, gamma=0.01, kernel=rbf;, score=-0.021 total time=   0.4s\n",
            "[CV 1/5] END .....C=1, gamma=0.001, kernel=rbf;, score=-0.028 total time=   0.3s\n",
            "[CV 2/5] END .....C=1, gamma=0.001, kernel=rbf;, score=-0.053 total time=   0.3s\n",
            "[CV 3/5] END .....C=1, gamma=0.001, kernel=rbf;, score=-0.042 total time=   0.4s\n",
            "[CV 4/5] END .....C=1, gamma=0.001, kernel=rbf;, score=-0.005 total time=   0.6s\n",
            "[CV 5/5] END .....C=1, gamma=0.001, kernel=rbf;, score=-0.027 total time=   0.6s\n",
            "[CV 1/5] END ....C=1, gamma=0.0001, kernel=rbf;, score=-0.026 total time=   0.6s\n",
            "[CV 2/5] END ....C=1, gamma=0.0001, kernel=rbf;, score=-0.042 total time=   0.6s\n",
            "[CV 3/5] END .....C=1, gamma=0.0001, kernel=rbf;, score=0.002 total time=   0.5s\n",
            "[CV 4/5] END .....C=1, gamma=0.0001, kernel=rbf;, score=0.011 total time=   0.3s\n",
            "[CV 5/5] END ....C=1, gamma=0.0001, kernel=rbf;, score=-0.038 total time=   0.3s\n",
            "[CV 1/5] END .........C=10, gamma=1, kernel=rbf;, score=0.002 total time=   0.4s\n",
            "[CV 2/5] END .........C=10, gamma=1, kernel=rbf;, score=0.002 total time=   0.4s\n",
            "[CV 3/5] END .........C=10, gamma=1, kernel=rbf;, score=0.001 total time=   0.4s\n",
            "[CV 4/5] END .........C=10, gamma=1, kernel=rbf;, score=0.001 total time=   0.4s\n",
            "[CV 5/5] END ........C=10, gamma=1, kernel=rbf;, score=-0.006 total time=   0.4s\n",
            "[CV 1/5] END .......C=10, gamma=0.1, kernel=rbf;, score=0.003 total time=   0.4s\n",
            "[CV 2/5] END .......C=10, gamma=0.1, kernel=rbf;, score=0.005 total time=   0.4s\n",
            "[CV 3/5] END .......C=10, gamma=0.1, kernel=rbf;, score=0.004 total time=   0.4s\n",
            "[CV 4/5] END .......C=10, gamma=0.1, kernel=rbf;, score=0.003 total time=   0.4s\n",
            "[CV 5/5] END ......C=10, gamma=0.1, kernel=rbf;, score=-0.003 total time=   0.4s\n",
            "[CV 1/5] END ......C=10, gamma=0.01, kernel=rbf;, score=0.013 total time=   0.4s\n",
            "[CV 2/5] END ......C=10, gamma=0.01, kernel=rbf;, score=0.003 total time=   0.4s\n",
            "[CV 3/5] END ......C=10, gamma=0.01, kernel=rbf;, score=0.000 total time=   0.4s\n",
            "[CV 4/5] END ......C=10, gamma=0.01, kernel=rbf;, score=0.068 total time=   0.4s\n",
            "[CV 5/5] END ......C=10, gamma=0.01, kernel=rbf;, score=0.035 total time=   0.4s\n",
            "[CV 1/5] END ....C=10, gamma=0.001, kernel=rbf;, score=-0.059 total time=   0.4s\n",
            "[CV 2/5] END ....C=10, gamma=0.001, kernel=rbf;, score=-0.095 total time=   0.4s\n",
            "[CV 3/5] END ....C=10, gamma=0.001, kernel=rbf;, score=-0.233 total time=   0.4s\n",
            "[CV 4/5] END .....C=10, gamma=0.001, kernel=rbf;, score=0.014 total time=   0.5s\n",
            "[CV 5/5] END ....C=10, gamma=0.001, kernel=rbf;, score=-0.056 total time=   0.4s\n",
            "[CV 1/5] END ...C=10, gamma=0.0001, kernel=rbf;, score=-0.192 total time=   0.5s\n",
            "[CV 2/5] END ...C=10, gamma=0.0001, kernel=rbf;, score=-0.166 total time=   0.7s\n",
            "[CV 3/5] END ...C=10, gamma=0.0001, kernel=rbf;, score=-0.388 total time=   0.9s\n",
            "[CV 4/5] END ...C=10, gamma=0.0001, kernel=rbf;, score=-0.226 total time=   0.9s\n",
            "[CV 5/5] END ...C=10, gamma=0.0001, kernel=rbf;, score=-0.143 total time=   1.0s\n",
            "[CV 1/5] END ........C=100, gamma=1, kernel=rbf;, score=0.002 total time=   0.4s\n",
            "[CV 2/5] END ........C=100, gamma=1, kernel=rbf;, score=0.002 total time=   0.4s\n",
            "[CV 3/5] END ........C=100, gamma=1, kernel=rbf;, score=0.001 total time=   0.4s\n",
            "[CV 4/5] END ........C=100, gamma=1, kernel=rbf;, score=0.001 total time=   0.4s\n",
            "[CV 5/5] END .......C=100, gamma=1, kernel=rbf;, score=-0.006 total time=   0.4s\n",
            "[CV 1/5] END ......C=100, gamma=0.1, kernel=rbf;, score=0.003 total time=   0.4s\n",
            "[CV 2/5] END ......C=100, gamma=0.1, kernel=rbf;, score=0.005 total time=   0.4s\n",
            "[CV 3/5] END ......C=100, gamma=0.1, kernel=rbf;, score=0.004 total time=   0.4s\n",
            "[CV 4/5] END ......C=100, gamma=0.1, kernel=rbf;, score=0.003 total time=   0.4s\n",
            "[CV 5/5] END .....C=100, gamma=0.1, kernel=rbf;, score=-0.003 total time=   0.4s\n",
            "[CV 1/5] END .....C=100, gamma=0.01, kernel=rbf;, score=0.013 total time=   0.4s\n",
            "[CV 2/5] END .....C=100, gamma=0.01, kernel=rbf;, score=0.003 total time=   0.4s\n",
            "[CV 3/5] END .....C=100, gamma=0.01, kernel=rbf;, score=0.000 total time=   0.4s\n",
            "[CV 4/5] END .....C=100, gamma=0.01, kernel=rbf;, score=0.068 total time=   0.4s\n",
            "[CV 5/5] END .....C=100, gamma=0.01, kernel=rbf;, score=0.035 total time=   0.4s\n",
            "[CV 1/5] END ...C=100, gamma=0.001, kernel=rbf;, score=-0.056 total time=   0.6s\n",
            "[CV 2/5] END ...C=100, gamma=0.001, kernel=rbf;, score=-0.108 total time=   0.6s\n",
            "[CV 3/5] END ...C=100, gamma=0.001, kernel=rbf;, score=-0.252 total time=   0.6s\n",
            "[CV 4/5] END ....C=100, gamma=0.001, kernel=rbf;, score=0.002 total time=   0.6s\n",
            "[CV 5/5] END ...C=100, gamma=0.001, kernel=rbf;, score=-0.092 total time=   0.6s\n",
            "[CV 1/5] END ..C=100, gamma=0.0001, kernel=rbf;, score=-0.442 total time=   1.5s\n",
            "[CV 2/5] END ..C=100, gamma=0.0001, kernel=rbf;, score=-0.795 total time=   2.3s\n",
            "[CV 3/5] END ..C=100, gamma=0.0001, kernel=rbf;, score=-0.742 total time=   1.4s\n",
            "[CV 4/5] END ..C=100, gamma=0.0001, kernel=rbf;, score=-0.536 total time=   1.3s\n",
            "[CV 5/5] END ..C=100, gamma=0.0001, kernel=rbf;, score=-1.069 total time=   1.5s\n",
            "[CV 1/5] END .......C=1000, gamma=1, kernel=rbf;, score=0.002 total time=   0.4s\n",
            "[CV 2/5] END .......C=1000, gamma=1, kernel=rbf;, score=0.002 total time=   0.4s\n",
            "[CV 3/5] END .......C=1000, gamma=1, kernel=rbf;, score=0.001 total time=   0.4s\n",
            "[CV 4/5] END .......C=1000, gamma=1, kernel=rbf;, score=0.001 total time=   0.4s\n",
            "[CV 5/5] END ......C=1000, gamma=1, kernel=rbf;, score=-0.006 total time=   0.4s\n",
            "[CV 1/5] END .....C=1000, gamma=0.1, kernel=rbf;, score=0.003 total time=   0.4s\n",
            "[CV 2/5] END .....C=1000, gamma=0.1, kernel=rbf;, score=0.005 total time=   0.4s\n",
            "[CV 3/5] END .....C=1000, gamma=0.1, kernel=rbf;, score=0.004 total time=   0.4s\n",
            "[CV 4/5] END .....C=1000, gamma=0.1, kernel=rbf;, score=0.003 total time=   0.4s\n",
            "[CV 5/5] END ....C=1000, gamma=0.1, kernel=rbf;, score=-0.003 total time=   0.4s\n",
            "[CV 1/5] END ....C=1000, gamma=0.01, kernel=rbf;, score=0.013 total time=   0.4s\n",
            "[CV 2/5] END ....C=1000, gamma=0.01, kernel=rbf;, score=0.003 total time=   0.4s\n",
            "[CV 3/5] END ....C=1000, gamma=0.01, kernel=rbf;, score=0.000 total time=   0.4s\n",
            "[CV 4/5] END ....C=1000, gamma=0.01, kernel=rbf;, score=0.068 total time=   0.4s\n",
            "[CV 5/5] END ....C=1000, gamma=0.01, kernel=rbf;, score=0.035 total time=   0.5s\n",
            "[CV 1/5] END ..C=1000, gamma=0.001, kernel=rbf;, score=-0.055 total time=   1.0s\n",
            "[CV 2/5] END ..C=1000, gamma=0.001, kernel=rbf;, score=-0.108 total time=   1.2s\n",
            "[CV 3/5] END ..C=1000, gamma=0.001, kernel=rbf;, score=-0.252 total time=   0.8s\n",
            "[CV 4/5] END ...C=1000, gamma=0.001, kernel=rbf;, score=0.002 total time=   0.6s\n",
            "[CV 5/5] END ..C=1000, gamma=0.001, kernel=rbf;, score=-0.092 total time=   0.6s\n",
            "[CV 1/5] END .C=1000, gamma=0.0001, kernel=rbf;, score=-0.585 total time=   5.1s\n",
            "[CV 2/5] END .C=1000, gamma=0.0001, kernel=rbf;, score=-1.033 total time=   7.5s\n",
            "[CV 3/5] END .C=1000, gamma=0.0001, kernel=rbf;, score=-0.810 total time=   6.2s\n",
            "[CV 4/5] END .C=1000, gamma=0.0001, kernel=rbf;, score=-0.707 total time=   7.0s\n",
            "[CV 5/5] END .C=1000, gamma=0.0001, kernel=rbf;, score=-1.049 total time=   5.4s\n"
          ]
        },
        {
          "output_type": "execute_result",
          "data": {
            "text/plain": [
              "GridSearchCV(estimator=SVR(),\n",
              "             param_grid={'C': [0.1, 1, 10, 100, 1000],\n",
              "                         'gamma': [1, 0.1, 0.01, 0.001, 0.0001],\n",
              "                         'kernel': ['rbf']},\n",
              "             verbose=3)"
            ]
          },
          "metadata": {},
          "execution_count": 34
        }
      ]
    },
    {
      "cell_type": "code",
      "source": [
        "from sklearn.svm import SVR\n",
        "\n",
        "# Create an instance of the SVR estimator\n",
        "svr = SVR()\n",
        "params = svr.get_params().keys()\n",
        "print(params)\n"
      ],
      "metadata": {
        "colab": {
          "base_uri": "https://localhost:8080/"
        },
        "id": "tuZ5TLjRY2ap",
        "outputId": "39aee8af-0967-4dac-eed3-12b23d4b4bfe"
      },
      "execution_count": null,
      "outputs": [
        {
          "output_type": "stream",
          "name": "stdout",
          "text": [
            "dict_keys(['C', 'cache_size', 'coef0', 'degree', 'epsilon', 'gamma', 'kernel', 'max_iter', 'shrinking', 'tol', 'verbose'])\n"
          ]
        }
      ]
    },
    {
      "cell_type": "code",
      "source": [
        "svr = SVR(C=10,gamma=0.01,kernel ='rbf')\n",
        "svr.fit(X_train,y_train)\n",
        "svr_pred =svr.predict(X_test)"
      ],
      "metadata": {
        "id": "uuvC8pFbbSrp"
      },
      "execution_count": null,
      "outputs": []
    },
    {
      "cell_type": "code",
      "source": [
        "import joblib \n",
        "joblib.dump(rd, 'model.pkl')\n",
        "ridge_from_joblib = model = joblib.load(\"model.pkl\")"
      ],
      "metadata": {
        "id": "Eidf0UUhoURM"
      },
      "execution_count": null,
      "outputs": []
    },
    {
      "cell_type": "code",
      "source": [],
      "metadata": {
        "id": "yBslx15Zol13"
      },
      "execution_count": null,
      "outputs": []
    }
  ]
}